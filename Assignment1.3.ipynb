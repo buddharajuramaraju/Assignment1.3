{
 "cells": [
  {
   "cell_type": "markdown",
   "metadata": {},
   "source": [
    "### Problem Statement\n",
    "\n",
    "Write a Python program to accept the user's first and last name and then getting them\n",
    "printed in the the reverse order with a space between first name and last name."
   ]
  },
  {
   "cell_type": "code",
   "execution_count": 2,
   "metadata": {},
   "outputs": [
    {
     "name": "stdout",
     "output_type": "stream",
     "text": [
      "Please Enter Your Firstname : Ramaraju\n",
      "Please Enter Your Lastname : Buddharaju\n",
      "ujaramaR ujarahdduB\n"
     ]
    }
   ],
   "source": [
    "firstname = input(\"Please Enter Your Firstname : \") # to get user's firstname\n",
    "lastname  = input(\"Please Enter Your Lastname : \")   # to get user's lastname\n",
    "print(\"{Firstname} {Lastname}\".format(Firstname=firstname[::-1],Lastname=lastname[::-1])) # print output"
   ]
  },
  {
   "cell_type": "code",
   "execution_count": null,
   "metadata": {
    "collapsed": true
   },
   "outputs": [],
   "source": []
  }
 ],
 "metadata": {
  "kernelspec": {
   "display_name": "Python 3",
   "language": "python",
   "name": "python3"
  },
  "language_info": {
   "codemirror_mode": {
    "name": "ipython",
    "version": 3
   },
   "file_extension": ".py",
   "mimetype": "text/x-python",
   "name": "python",
   "nbconvert_exporter": "python",
   "pygments_lexer": "ipython3",
   "version": "3.6.3"
  }
 },
 "nbformat": 4,
 "nbformat_minor": 2
}
